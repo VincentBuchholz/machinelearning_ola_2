{
 "cells": [
  {
   "cell_type": "code",
   "execution_count": 6,
   "id": "f0b73abc-21df-4776-9258-dbb2eb5a487c",
   "metadata": {},
   "outputs": [],
   "source": [
    "import numpy as np\n",
    "import math\n",
    "from scipy.spatial.distance import hamming"
   ]
  },
  {
   "cell_type": "markdown",
   "id": "f90ed460-d6c2-40a4-abfc-a1b853c27982",
   "metadata": {},
   "source": [
    "# Euclidean"
   ]
  },
  {
   "cell_type": "code",
   "execution_count": 4,
   "id": "b8d836c0-94e2-49a7-8a0e-f803062d5b58",
   "metadata": {},
   "outputs": [
    {
     "data": {
      "text/plain": [
       "5.385164807134505"
      ]
     },
     "execution_count": 4,
     "metadata": {},
     "output_type": "execute_result"
    }
   ],
   "source": [
    "p = [5,5]\n",
    "q = [10,7]\n",
    "\n",
    "math.dist(q,p)"
   ]
  },
  {
   "cell_type": "markdown",
   "id": "1e851c76-3640-4fdd-9b94-de2654f7037f",
   "metadata": {},
   "source": [
    "# Manhatten"
   ]
  },
  {
   "cell_type": "code",
   "execution_count": 5,
   "id": "18ac7ec7-985f-4274-83d8-e21b7e963e21",
   "metadata": {},
   "outputs": [
    {
     "data": {
      "text/plain": [
       "7"
      ]
     },
     "execution_count": 5,
     "metadata": {},
     "output_type": "execute_result"
    }
   ],
   "source": [
    "p = [5,5]\n",
    "q = [10,7]\n",
    "\n",
    "def manhattan(q, p):\n",
    "    return sum(abs(val1-val2) for val1, val2 in zip(q,p))\n",
    "\n",
    "manhattan(q,p)"
   ]
  },
  {
   "cell_type": "markdown",
   "id": "1af2a500-578b-41c6-809b-377c76bd1653",
   "metadata": {},
   "source": [
    "# Hamming"
   ]
  },
  {
   "cell_type": "code",
   "execution_count": 9,
   "id": "16c768f3-e7cb-4efd-abec-e71ffa573a40",
   "metadata": {},
   "outputs": [
    {
     "name": "stdout",
     "output_type": "stream",
     "text": [
      "2.0\n",
      "1.0\n"
     ]
    }
   ],
   "source": [
    "from scipy.spatial.distance import hamming\n",
    "\n",
    "p = [5,5]\n",
    "q = [10,7]\n",
    "\n",
    "print(hamming(q,p) * len(q))\n",
    "\n",
    "p = [5,5]\n",
    "q = [5,7]\n",
    "\n",
    "print(hamming(q,p) * len(q))"
   ]
  },
  {
   "cell_type": "code",
   "execution_count": null,
   "id": "5762c1bd-925b-4c71-821f-2d920b27ef0f",
   "metadata": {},
   "outputs": [],
   "source": []
  }
 ],
 "metadata": {
  "kernelspec": {
   "display_name": "Python 3 (ipykernel)",
   "language": "python",
   "name": "python3"
  },
  "language_info": {
   "codemirror_mode": {
    "name": "ipython",
    "version": 3
   },
   "file_extension": ".py",
   "mimetype": "text/x-python",
   "name": "python",
   "nbconvert_exporter": "python",
   "pygments_lexer": "ipython3",
   "version": "3.9.13"
  }
 },
 "nbformat": 4,
 "nbformat_minor": 5
}
